{
 "cells": [
  {
   "cell_type": "code",
   "execution_count": 13,
   "metadata": {},
   "outputs": [],
   "source": [
    "from pathlib import Path\n",
    "import sys\n",
    "sys.path.append(\"..\")\n",
    "root_path = Path.cwd().parent"
   ]
  },
  {
   "cell_type": "code",
   "execution_count": 3,
   "metadata": {},
   "outputs": [],
   "source": [
    "import torch\n",
    "from data_processor import ConllDataSet"
   ]
  },
  {
   "cell_type": "code",
   "execution_count": 36,
   "metadata": {},
   "outputs": [
    {
     "name": "stderr",
     "output_type": "stream",
     "text": [
      "2019-06-09 22:17:49,858 - DEBUG : Loading data for training...\n",
      "2019-06-09 22:17:49,859 - DEBUG : Now counting word stats...\n",
      "2019-06-09 22:17:53,778 - DEBUG : Now preprocessing data...\n",
      "2019-06-09 22:17:58,524 - DEBUG : Loading data for training...\n",
      "2019-06-09 22:17:58,525 - DEBUG : Now counting word stats...\n",
      "2019-06-09 22:17:58,689 - DEBUG : Now preprocessing data...\n",
      "2019-06-09 22:17:58,884 - DEBUG : Loading data for training...\n",
      "2019-06-09 22:17:58,885 - DEBUG : Now counting word stats...\n",
      "2019-06-09 22:17:59,115 - DEBUG : Now preprocessing data...\n"
     ]
    }
   ],
   "source": [
    "# Load data\n",
    "train_data_path = Path(root_path,\"data\",\"en-universal-train.conll\")\n",
    "train_data = ConllDataSet(train_data_path)\n",
    "dev_data_path = Path(root_path,\"data\",\"en-universal-dev.conll\")\n",
    "dev_data = ConllDataSet(dev_data_path)\n",
    "test_data_path = Path(root_path,\"data\",\"en-universal-test.conll\")\n",
    "test_data = ConllDataSet(test_data_path)"
   ]
  },
  {
   "cell_type": "code",
   "execution_count": 15,
   "metadata": {
    "collapsed": true
   },
   "outputs": [
    {
     "name": "stderr",
     "output_type": "stream",
     "text": [
      "/usr/local/var/pyenv/versions/miniconda3-4.3.30/lib/python3.6/site-packages/torch/serialization.py:454: SourceChangeWarning: source code of class 'torch.nn.modules.sparse.Embedding' has changed. you can retrieve the original source code by accessing the object's source attribute or set `torch.nn.Module.dump_patches = True` and use the patch tool to revert the changes.\n",
      "  warnings.warn(msg, SourceChangeWarning)\n",
      "/usr/local/var/pyenv/versions/miniconda3-4.3.30/lib/python3.6/site-packages/torch/serialization.py:454: SourceChangeWarning: source code of class 'torch.nn.modules.rnn.LSTM' has changed. you can retrieve the original source code by accessing the object's source attribute or set `torch.nn.Module.dump_patches = True` and use the patch tool to revert the changes.\n",
      "  warnings.warn(msg, SourceChangeWarning)\n",
      "/usr/local/var/pyenv/versions/miniconda3-4.3.30/lib/python3.6/site-packages/torch/serialization.py:454: SourceChangeWarning: source code of class 'torch.nn.modules.linear.Linear' has changed. you can retrieve the original source code by accessing the object's source attribute or set `torch.nn.Module.dump_patches = True` and use the patch tool to revert the changes.\n",
      "  warnings.warn(msg, SourceChangeWarning)\n"
     ]
    }
   ],
   "source": [
    "# Load model\n",
    "model_name = \"model_word_dropout_epoch9.pt\"\n",
    "model_path = Path(root_path,\"result\",\"model\",model_name)\n",
    "model = torch.load(model_path)"
   ]
  },
  {
   "cell_type": "code",
   "execution_count": 32,
   "metadata": {},
   "outputs": [],
   "source": [
    "model = model.eval()\n",
    "model.is_train_mode = True"
   ]
  },
  {
   "cell_type": "code",
   "execution_count": 35,
   "metadata": {},
   "outputs": [
    {
     "data": {
      "text/plain": [
       "([-1,\n",
       "  29,\n",
       "  5,\n",
       "  5,\n",
       "  3,\n",
       "  1,\n",
       "  5,\n",
       "  9,\n",
       "  9,\n",
       "  6,\n",
       "  9,\n",
       "  9,\n",
       "  15,\n",
       "  15,\n",
       "  15,\n",
       "  11,\n",
       "  15,\n",
       "  18,\n",
       "  15,\n",
       "  18,\n",
       "  18,\n",
       "  20,\n",
       "  20,\n",
       "  22,\n",
       "  9,\n",
       "  29,\n",
       "  25,\n",
       "  25,\n",
       "  29,\n",
       "  0,\n",
       "  31,\n",
       "  29,\n",
       "  29,\n",
       "  37,\n",
       "  33,\n",
       "  33,\n",
       "  35,\n",
       "  29],\n",
       " tensor([-84.1555], grad_fn=<AddBackward0>),\n",
       " tensor([-178.4769], grad_fn=<AddBackward0>))"
      ]
     },
     "execution_count": 35,
     "metadata": {},
     "output_type": "execute_result"
    }
   ],
   "source": [
    "data = dev_data[0]\n",
    "model(data[0],data[1],data[2])"
   ]
  },
  {
   "cell_type": "code",
   "execution_count": 34,
   "metadata": {},
   "outputs": [
    {
     "data": {
      "text/plain": [
       "[-1,\n",
       " 2,\n",
       " 10,\n",
       " 2,\n",
       " 6,\n",
       " 6,\n",
       " 3,\n",
       " 6,\n",
       " 9,\n",
       " 6,\n",
       " 0,\n",
       " 10,\n",
       " 14,\n",
       " 14,\n",
       " 11,\n",
       " 22,\n",
       " 20,\n",
       " 20,\n",
       " 20,\n",
       " 20,\n",
       " 22,\n",
       " 22,\n",
       " 14,\n",
       " 22,\n",
       " 14,\n",
       " 14,\n",
       " 28,\n",
       " 28,\n",
       " 25,\n",
       " 28,\n",
       " 31,\n",
       " 33,\n",
       " 31,\n",
       " 29,\n",
       " 33,\n",
       " 36,\n",
       " 34,\n",
       " 10]"
      ]
     },
     "execution_count": 34,
     "metadata": {},
     "output_type": "execute_result"
    }
   ],
   "source": [
    "data[2]"
   ]
  },
  {
   "cell_type": "code",
   "execution_count": null,
   "metadata": {},
   "outputs": [],
   "source": []
  },
  {
   "cell_type": "code",
   "execution_count": null,
   "metadata": {},
   "outputs": [],
   "source": []
  }
 ],
 "metadata": {
  "kernelspec": {
   "display_name": "minoconda",
   "language": "python",
   "name": "miniconda3-4.3.30"
  },
  "language_info": {
   "codemirror_mode": {
    "name": "ipython",
    "version": 3
   },
   "file_extension": ".py",
   "mimetype": "text/x-python",
   "name": "python",
   "nbconvert_exporter": "python",
   "pygments_lexer": "ipython3",
   "version": "3.6.8"
  }
 },
 "nbformat": 4,
 "nbformat_minor": 2
}
